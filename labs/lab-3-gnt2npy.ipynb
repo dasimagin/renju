{
 "cells": [
  {
   "cell_type": "code",
   "execution_count": 8,
   "metadata": {
    "collapsed": true
   },
   "outputs": [],
   "source": [
    "import collections\n",
    "import imageio\n",
    "import random\n",
    "import os\n",
    "import struct\n",
    "\n",
    "import numpy as np\n",
    "import matplotlib.pyplot as plt\n",
    "\n",
    "%matplotlib inline"
   ]
  },
  {
   "cell_type": "markdown",
   "metadata": {},
   "source": [
    "Define simple iterator to read samples."
   ]
  },
  {
   "cell_type": "code",
   "execution_count": 2,
   "metadata": {
    "collapsed": true
   },
   "outputs": [],
   "source": [
    "def iterate(path):\n",
    "    with open(path, 'rb') as buffer:\n",
    "        head_format = '<I3H'\n",
    "        head_size = struct.calcsize(head_format)\n",
    "\n",
    "        while True:\n",
    "            head = buffer.read(head_size)\n",
    "            if not head:\n",
    "                break\n",
    "            _, tag, width, height = struct.unpack(head_format, head)\n",
    "            image = np.frombuffer(buffer.read(width * height), dtype=np.uint8)\n",
    "\n",
    "            yield image.reshape(height, width), tag"
   ]
  },
  {
   "cell_type": "code",
   "execution_count": 30,
   "metadata": {
    "collapsed": true
   },
   "outputs": [],
   "source": [
    "names = [\n",
    "    '../data/1.0test-gb1.gnt',\n",
    "    '../data/1.0train-gb1-part1.gnt',\n",
    "    '../data/1.0train-gb1-part2.gnt',\n",
    "    '../data/1.0train-gb1-part3.gnt',\n",
    "]"
   ]
  },
  {
   "cell_type": "code",
   "execution_count": 31,
   "metadata": {
    "collapsed": true
   },
   "outputs": [],
   "source": [
    "tags = set()\n",
    "\n",
    "for name in names:\n",
    "    for _, tag in iterate(name):\n",
    "        tags.add(tag)\n",
    "        \n",
    "        \n",
    "print(len(tags))"
   ]
  },
  {
   "cell_type": "code",
   "execution_count": 32,
   "metadata": {
    "collapsed": true
   },
   "outputs": [],
   "source": [
    "tags = list(tags)\n",
    "tags.sort()\n",
    "tags = set(tags[-1000:])"
   ]
  },
  {
   "cell_type": "code",
   "execution_count": 37,
   "metadata": {
    "collapsed": true
   },
   "outputs": [],
   "source": [
    "data = []\n",
    "for name in names:\n",
    "    for image, tag in iterate(name):\n",
    "        if tag in tags:\n",
    "            data.append([image, tag])\n",
    "            \n",
    "data = np.array(data)"
   ]
  },
  {
   "cell_type": "code",
   "execution_count": 38,
   "metadata": {},
   "outputs": [
    {
     "name": "stdout",
     "output_type": "stream",
     "text": [
      "(416234, 2)\n"
     ]
    }
   ],
   "source": [
    "random.shuffle(data)\n",
    "print(data.shape)"
   ]
  },
  {
   "cell_type": "code",
   "execution_count": 47,
   "metadata": {
    "collapsed": true
   },
   "outputs": [],
   "source": [
    "train_size = int(0.8 * len(data))\n",
    "train = data[:train_size]\n",
    "test = data[train_size:]"
   ]
  },
  {
   "cell_type": "code",
   "execution_count": 85,
   "metadata": {},
   "outputs": [
    {
     "data": {
      "text/plain": [
       "(332987, 2)"
      ]
     },
     "execution_count": 85,
     "metadata": {},
     "output_type": "execute_result"
    }
   ],
   "source": [
    "train.shape"
   ]
  },
  {
   "cell_type": "code",
   "execution_count": 76,
   "metadata": {
    "collapsed": true
   },
   "outputs": [],
   "source": [
    "part_n = 4\n",
    "for part in range(part_n):\n",
    "    size = len(train)\n",
    "    begin = int(size * part / part_n)\n",
    "    end  = int(size * (part + 1) / part_n)\n",
    "    np.save('train-%i.npy' % (part+1), train[begin:end])"
   ]
  },
  {
   "cell_type": "code",
   "execution_count": 77,
   "metadata": {
    "collapsed": true
   },
   "outputs": [],
   "source": [
    "np.save('test.npy', test[:, 0])\n",
    "\n",
    "with open('labels.csv', 'w') as out:\n",
    "    print('Id,Category', file=out)\n",
    "    for n, tag in enumerate(test[:, 1], 1):\n",
    "        print('{n},{tag}'.format(n=n, tag=tag), file=out)"
   ]
  }
 ],
 "metadata": {
  "kernelspec": {
   "display_name": "Python 3",
   "language": "python",
   "name": "python3"
  },
  "language_info": {
   "codemirror_mode": {
    "name": "ipython",
    "version": 3
   },
   "file_extension": ".py",
   "mimetype": "text/x-python",
   "name": "python",
   "nbconvert_exporter": "python",
   "pygments_lexer": "ipython3",
   "version": "3.6.1"
  }
 },
 "nbformat": 4,
 "nbformat_minor": 1
}
